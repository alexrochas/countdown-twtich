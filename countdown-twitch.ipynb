{
 "cells": [
  {
   "cell_type": "code",
   "execution_count": 13,
   "metadata": {},
   "outputs": [],
   "source": [
    "# pip3 install playsound\n",
    "# pip3 install -U PyObjC\n",
    "from playsound import playsound\n",
    "import time\n",
    "\n",
    "def countdown(t):\n",
    "    while t:\n",
    "        mins, secs = divmod(t, 60)\n",
    "        timeformat = '{:02d}:{:02d}'.format(mins, secs)\n",
    "        print(timeformat, end='\\r')\n",
    "        with open('countdown.txt', 'w') as filetowrite:\n",
    "            filetowrite.write(timeformat)\n",
    "        time.sleep(1)\n",
    "        t -= 1\n",
    "    playsound('bell.mp3')\n",
    "    print('Goodbye!\\n\\n\\n\\n\\n')"
   ]
  },
  {
   "cell_type": "code",
   "execution_count": null,
   "metadata": {},
   "outputs": [
    {
     "name": "stdout",
     "output_type": "stream",
     "text": [
      "00:01\r"
     ]
    }
   ],
   "source": [
    "countdown(60)"
   ]
  },
  {
   "cell_type": "code",
   "execution_count": null,
   "metadata": {},
   "outputs": [],
   "source": []
  }
 ],
 "metadata": {
  "kernelspec": {
   "display_name": "Python 3",
   "language": "python",
   "name": "python3"
  },
  "language_info": {
   "codemirror_mode": {
    "name": "ipython",
    "version": 3
   },
   "file_extension": ".py",
   "mimetype": "text/x-python",
   "name": "python",
   "nbconvert_exporter": "python",
   "pygments_lexer": "ipython3",
   "version": "3.7.7"
  }
 },
 "nbformat": 4,
 "nbformat_minor": 2
}
